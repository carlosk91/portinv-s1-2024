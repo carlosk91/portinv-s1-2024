{
 "cells": [
  {
   "cell_type": "markdown",
   "metadata": {},
   "source": [
    "# **¿Qué es un portafolio?**\n",
    "> Introducción a la materia y descripción de las herramientas computacionales que se van a utilizar a lo largo del curso. "
   ]
  },
  {
   "cell_type": "markdown",
   "metadata": {},
   "source": [
    "___\n",
    "## Portafolio\n",
    "- Todos nosotros poseemos un portafolio o un conjunto de activos. Estos portafolios pueden contener activos reales (casa, carro, nevera, celular) o activos financieros (acciones, bonos u otros instrumentos). \n",
    "\n",
    "- Ahora, la conformación de esos portafolios puede ser el resultado de una serie de decisiones sin relación alguna y ajustadas al momento.\n",
    "\n",
    "- Por el contrario, puede ser el resultado de una cierta planeación. Escoger un portafolio dados la gran cantidad de activos y las múltiples combinaciones pareciera un panorama abrumador."
   ]
  },
  {
   "cell_type": "markdown",
   "metadata": {},
   "source": [
    "<img style=\"center\" src=\"http://www.creative-commons-images.com/highway-signs/images/portfolio.jpg\" width=\"500px\" height=\"200px\" alt=\"atom\" />"
   ]
  },
  {
   "cell_type": "markdown",
   "metadata": {},
   "source": [
    "Aprenderemos los principios básicos para construir portafolios de manera efectiva. Centraremos nuestra atención en activos financieros, aunque mucho de lo que hagamos acá podría ser aplicado a activos reales también."
   ]
  },
  {
   "cell_type": "markdown",
   "metadata": {},
   "source": [
    "**Grandes preguntas:**\n",
    "- ¿Cómo distribuimos la riqueza entre los diferentes activos?\n",
    "- ¿Cómo elegimos inteligentemente un portafolio de inversión?\n",
    "- ¿Cómo maximizamos la rentabilidad asumiendo cierto riesgo?\n",
    "- ¿Cómo medir el riesgo?\n",
    "- ¿Cómo convencer a tu jefe que siga tu recomendación en cuanto a la distribución del dinero en activos?"
   ]
  },
  {
   "cell_type": "markdown",
   "metadata": {},
   "source": [
    "___\n",
    "## Herramientas computacionales"
   ]
  },
  {
   "cell_type": "markdown",
   "metadata": {},
   "source": [
    "### - [python](https://www.python.org) - [anaconda](https://www.anaconda.com/products/individual) - [jupyter](http://jupyter.org)"
   ]
  },
  {
   "cell_type": "markdown",
   "metadata": {},
   "source": [
    " <div>\n",
    "<img style=\"float: left; margin: 0px 0px 15px 15px;\" src=\"https://www.python.org/static/community_logos/python-logo.png\" width=\"200px\" height=\"200px\" alt=\"atom\" />\n",
    "<img style=\"float: left; margin: 0px 0px 15px 15px;\" src=\"https://upload.wikimedia.org/wikipedia/en/c/cd/Anaconda_Logo.png\" width=\"120\" />\n",
    "<img style=\"float: left; margin: 0px 0px 15px 15px;\" src=\"https://jupyter.org/assets/homepage/main-logo.svg\" width=\"80\" />\n"
   ]
  },
  {
   "cell_type": "markdown",
   "metadata": {},
   "source": [
    "# ¿Porqué Python?\n",
    "- https://www.economist.com/graphic-detail/2018/07/26/python-is-becoming-the-worlds-most-popular-coding-language\n",
    "- https://www.economist.com/science-and-technology/2018/07/19/python-has-brought-computer-programming-to-a-vast-new-audience\n",
    "- https://www.quantifiedstrategies.com/best-programming-language-for-algorithmic-trading-strategies/\n",
    "- https://www.quantstart.com/articles/Best-Programming-Language-for-Algorithmic-Trading-Systems/\n",
    "- https://thatholisticmom.medium.com/top-3-programming-languages-for-econometrics-bbaa75557a03"
   ]
  },
  {
   "cell_type": "markdown",
   "metadata": {},
   "source": [
    "### Instalar ANACONDA"
   ]
  },
  {
   "cell_type": "markdown",
   "metadata": {},
   "source": [
    "___\n",
    "## Herramientas adicionales"
   ]
  },
  {
   "cell_type": "markdown",
   "metadata": {},
   "source": [
    "### jupyter notebook"
   ]
  },
  {
   "cell_type": "markdown",
   "metadata": {},
   "source": [
    "- Aprender a usar el jupyter notebook\n",
    "   - Los notebooks tienen celdas de entrada y generalmente celdas de salida, así como celdas de texto. Las celdas de texto es lo que estas leyendo ahora. Las celdas de código inician con \"In []:\" con algún numero en los brackets. Si te colocas sobre una salda de entrada y presionas Shift-Enter, el código correrá en el <Strong> interprete </Strong> de python y el resultado se imprimirá en la celda de salida. "
   ]
  },
  {
   "cell_type": "markdown",
   "metadata": {},
   "source": [
    "**Trabajando con el notebook de jupyter**"
   ]
  },
  {
   "cell_type": "markdown",
   "metadata": {},
   "source": [
    "Además de poder realizar progrmación, tiene otras ventajas. Como ya se dieron cuenta toda esta presentación esta hecha con el notebook. Además de eso, también se puede incluir directamente dentro de este documento, texto en [Markdown](https://confluence.atlassian.com/bitbucketserver/markdown-syntax-guide-776639995.html). \n",
    "\n",
    "Uno de los atractivos más relevantes (personalmente) es que puedes escribir ecuaciones estilo $\\LaTeX$, esto es gracias al proyecto [MathJax](https://www.mathjax.org) el cual se especializa en que podamos publicar matemáticas en línea. A continuación, se muestra una ejemplo. "
   ]
  },
  {
   "cell_type": "markdown",
   "metadata": {},
   "source": [
    "___\n",
    ">Capitalización por *interés compuesto*:\n",
    ">$$C_k=C_0(1+i)^k,$$\n",
    ">donde:\n",
    ">- $C_k$ es el capital al final del $k$-ésimo periodo,\n",
    ">- $C_0$ es el capital inicial,\n",
    ">- $i$ es la tasa de interés pactada, y\n",
    ">- $k$ es el número de periodos.\n",
    "\n",
    "___\n",
    "https://es.wikipedia.org/wiki/Inter%C3%A9s_compuesto"
   ]
  },
  {
   "cell_type": "markdown",
   "metadata": {},
   "source": [
    "#### Archivos de python (script)\n",
    "- Estos son simplemente archivos de texto con la extensión .py\n",
    "     - user $ python miprograma.py\n",
    "- Cada linea en el archivo es una declaración de código en python, o parte del código. "
   ]
  },
  {
   "cell_type": "code",
   "execution_count": 2,
   "metadata": {},
   "outputs": [
    {
     "name": "stdout",
     "output_type": "stream",
     "text": [
      "Hola, bienvenid@ a la asignatura de Portafolios de Inversión. Soy Harry Markowitz y me gustaría saber un poco acerca de ti, por ejemplo ¿Cuál es tu nombre?  >> Pedrito\n",
      "Gusto en conocerte Pedrito, espero que te guste el curso. Acá aprenderemos cómo es que los inversionistas racionales toman decisiones acerca de su inversión. Pero bueno, eso luego, ¿Qué edad tienes?  >> 64\n",
      "¿Te ha gustado esta bienvenida?  >> Si\n",
      "Muy bien Pedrito, dices que Si te gustó la bienvenida. Y además estas por cumplir 65 años. Fue un gusto conocerte, hasta pronto! "
     ]
    }
   ],
   "source": [
    "%run welcome.py"
   ]
  },
  {
   "cell_type": "markdown",
   "metadata": {},
   "source": [
    "### [git](https://git-scm.com)\n",
    "<img style=\"float: right; margin: 15px 15px 15px 15px;\" src=\"http://conociendogithub.readthedocs.io/en/latest/_images/Git.png\" title=\"git\" width=\"180\" height=\"50\">\n",
    "\n",
    "`git` es un software (de código abierto) de control de versiones diseñado por *Linus Torvalds*, pensando en la eficiencia y la confiabilidad del mantenimiento de versiones de aplicaciones cuando éstas tienen un gran número de archivos de código fuente.</p>\n",
    "\n",
    "Se llama control de versiones a la gestión de los diversos cambios que se realizan sobre los elementos de algún producto o una configuración del mismo. Una versión, revisión o edición de un producto, es el estado en el que se encuentra el mismo en un momento dado de su desarrollo o modificación.</p>\n",
    "\n",
    "`git` es independiente de `GitHub`, y es el programa que se usa para gestionar todos los cambios en las versiones de un proyecto (individual o colaborativo, local o de acceso remoto)."
   ]
  },
  {
   "cell_type": "markdown",
   "metadata": {},
   "source": [
    "### [GitHub](https://github.com)\n",
    "\n",
    "<img style=\"float: right; margin: 15px 15px 15px 15px;\" src=\"https://c1.staticflickr.com/3/2238/13158675193_2892abac95_z.jpg\" title=\"git\" width=\"180\" height=\"50\">\n",
    "\n",
    "`GitHub` es una compañía que ofrece servicios de *hosting* para repositorios de `git`, y es la forma más popular para trabajar con el control de versiones que brinda `git` de forma colaborativa. En pocas palabras, permite que tanto tú como otras personas del mundo trabajen juntos en proyectos, haciendo control de versiones con `git`.\n",
    "\n",
    "De forma que usando `git` y `GitHub` en conjunto se puede trabajar tanto:\n",
    "- De forma local: repositorios en tu equipo, sin necesidad de conexión a internet (usando únicamente `git`).\n",
    "- De forma remota: repositorios remotos (compartidos) que no están necesariamente en tu máquina.\n",
    "\n",
    "**Importante**: se recomienda crear una cuenta *seria*, no solo porque la vamos a utilizar continuamente en el curso, sino porque probablemente sea parte importante de su carrera profesional."
   ]
  },
  {
   "cell_type": "markdown",
   "metadata": {},
   "source": [
    "### [GitKraken](https://www.gitkraken.com/)\n",
    "\n",
    "<img style=\"float: right; margin: 15px 15px 15px 15px;\" src=\"https://www.gitkraken.com/downloads/brand-assets/gitkraken-keif-teal-sq.png\" title=\"git\" width=\"180\" height=\"50\">\n",
    "\n",
    "**Usamos `git` desde una interfaz gráfica :)**\n",
    "\n",
    "Todos los procedimientos con `git` se pueden correr desde la *consola*. Sin embargo, este modo de utilizar `git` puede ser tedioso para algunos (esto no solo ocurre con `git`).\n",
    "\n",
    "Por ello, `git` viene con algunas herramientas *GUI* (Graphical User Interface) por defecto con su instalación. Aún así, existen varias GUI desarrolladas por otras compañías para brindar una experiencia más cómoda según el sistema operativo.\n",
    "\n",
    "`GitKraken` es entonces una de estas GUI, **gratuita para el uso no comercial**, que tiene versiones para los sistemas operativos *Windows*, *Mac* y *Linux*. La estaremos usando en el curso por su versatilidad."
   ]
  },
  {
   "cell_type": "markdown",
   "metadata": {},
   "source": [
    "### Seguir un proyecto de otra persona\n",
    "Como ejemplo, van a seguir el proyecto de la asignatura **portinv-s1-2024**.\n",
    "\n",
    "Los siguientes pasos nos enseñarán como mantener nuestro repositorio local actualizado con el repositorio de la asignatura.\n",
    "1. Entrar al repositorio https://github.com/carlosk91/portinv-s1-2024.\n",
    "2. En la esquina superior derecha, dar click en *fork* y esperar un momento. Esta acción copia en su cuenta de `GitHub` un repositorio idéntico al de la materia (con el mismo nombre).\n",
    "3. Desde `GitKraken`, clonar el repositorio (el que ya está en su cuenta).\n",
    "4. En la pestaña *REMOTE* dar click en el signo `+`.\n",
    "    - Picar en `GitHub`.\n",
    "    - Desplegar la pestaña y elegir carlosk91/portinv-s1-2024.\n",
    "    - Picar en *Add remote*.\n",
    "5. <font color=red>Añadiré un nuevo archivo en el repositorio de la materia y ustedes verán qué pasa en `GitKraken`</font>.\n",
    "6. Darán click en stage changes con un commit message.\n",
    "7. Para actualizar el repositorio remoto propio hacer un *push*."
   ]
  },
  {
   "cell_type": "markdown",
   "metadata": {},
   "source": [
    "> **Tarea 1:** <font color = blue> Realizar una presentación personal haciendo uso de la sintaxis `Markdown`. En ella deben incluir un resumen de uno de los artículos expuestos en el notebook. </font> \n",
    "\n",
    "<img src=\"https://raw.githubusercontent.com/louim/in-case-of-fire/master/in_case_of_fire.png\" title=\"In case of fire (https://github.com/louim/in-case-of-fire)\" width=\"200\" height=\"50\" align=\"center\">"
   ]
  },
  {
   "cell_type": "markdown",
   "metadata": {},
   "source": [
    "<script>\n",
    "  $(document).ready(function(){\n",
    "    $('div.prompt').hide();\n",
    "    $('div.back-to-top').hide();\n",
    "    $('nav#menubar').hide();\n",
    "    $('.breadcrumb').hide();\n",
    "    $('.hidden-print').hide();\n",
    "  });\n",
    "</script>\n",
    "\n",
    "<footer id=\"attribution\" style=\"float:right; color:#808080; background:#fff;\">\n",
    "Created with Jupyter by Carlos Kelly.\n",
    "</footer>"
   ]
  }
 ],
 "metadata": {
  "anaconda-cloud": {},
  "kernelspec": {
   "display_name": "Python 3 (ipykernel)",
   "language": "python",
   "name": "python3"
  },
  "language_info": {
   "codemirror_mode": {
    "name": "ipython",
    "version": 3
   },
   "file_extension": ".py",
   "mimetype": "text/x-python",
   "name": "python",
   "nbconvert_exporter": "python",
   "pygments_lexer": "ipython3",
   "version": "3.11.5"
  }
 },
 "nbformat": 4,
 "nbformat_minor": 4
}
