{
 "cells": [
  {
   "cell_type": "markdown",
   "metadata": {},
   "source": [
    "# Tarea 2: Manejo de datos con pandas\n",
    "\n",
    "<img style=\"float: right; margin: 0px 0px 15px 15px;\" src=\"https://pandas.pydata.org/static/img/pandas.svg\" width=\"300px\" height=\"300px\" />\n",
    "\n",
    "Resolver cada uno de los puntos en los espacios provistos.\n",
    "\n",
    "Referencias:\n",
    "- https://towardsdatascience.com/data-science-with-python-intro-to-loading-and-subsetting-data-with-pandas-9f26895ddd7f\n",
    "- https://github.com/Ventsislav-Yordanov/Data-Science-Exercises\n",
    "___"
   ]
  },
  {
   "cell_type": "markdown",
   "metadata": {},
   "source": [
    "# Descripción de los datos\n",
    "\n",
    "En los siguientes ejercicios usarás los datos del archivo \"tips.csv\", que contiene información de propinas.\n",
    "\n",
    "Variables en las columnas:\n",
    "\n",
    "* **total_bill**: **monto de la cuenta (dólares)**\n",
    "* **tip**: **monto de la propina (dólares)**\n",
    "* **sex**: **\\[Female, Male\\], género de quien paga la cuenta**\n",
    "* **smoker**: **\\[No, Yes\\], si el grupo incluye o no fumadores**\n",
    "* **day**: **\\['Sun', 'Sat', 'Thur', 'Fri'\\], día de la semana**\n",
    "* **time**: **\\[Dinner, Lunch\\], momento aproximado del día**\n",
    "* **size**: **número de personas en el grupo**"
   ]
  },
  {
   "cell_type": "code",
   "execution_count": null,
   "metadata": {},
   "outputs": [],
   "source": [
    "# Importar pandas\n"
   ]
  },
  {
   "cell_type": "markdown",
   "metadata": {},
   "source": [
    "Importar los datos guardados en el archivo \"tips.csv\" como un DataFrame de pandas, cuyo nombre sea `tips_data`.\n",
    "\n",
    "Luego utilizar el método `head()` de DataFrames para ver las primeras 5 filas de los datos."
   ]
  },
  {
   "cell_type": "code",
   "execution_count": null,
   "metadata": {},
   "outputs": [],
   "source": [
    "# Importar los datos\n",
    "tips_data = \n",
    "# Utilizar el método head() para ver las primeras 5 filas de los datos\n",
    "tips_data.head()"
   ]
  },
  {
   "cell_type": "markdown",
   "metadata": {},
   "source": [
    "¿Cuántas filas y columnas tiene tu DataFrame? (atributo `shape`)"
   ]
  },
  {
   "cell_type": "code",
   "execution_count": null,
   "metadata": {},
   "outputs": [],
   "source": [
    "tips_data.shape"
   ]
  },
  {
   "cell_type": "markdown",
   "metadata": {},
   "source": [
    "# Análisis exploratorio de datos\n",
    "\n",
    "Esta parte ya está resuelta, solo corre las celdas para ver los resultados."
   ]
  },
  {
   "cell_type": "code",
   "execution_count": null,
   "metadata": {},
   "outputs": [],
   "source": [
    "def print_min_max(column):\n",
    "    print(\"The min value for the column \\\"\" + column + \"\\\" is:\",  tips_data[column].min())\n",
    "    print(\"The max value for the column \\\"\" + column + \"\\\" is:\",  tips_data[column].max())"
   ]
  },
  {
   "cell_type": "code",
   "execution_count": null,
   "metadata": {},
   "outputs": [],
   "source": [
    "print_min_max(\"tip\")\n",
    "print()\n",
    "print_min_max(\"total_bill\")\n",
    "print()\n",
    "print_min_max(\"size\")"
   ]
  },
  {
   "cell_type": "markdown",
   "metadata": {},
   "source": [
    "# Filtrado de datos\n",
    "\n",
    "Ya vieron para que sirve el método `head()`: para imprimir solo las primeras 5 filas de su resultado. Es decir, sirve para no desplegar DataFrames muy largos. Asegúrese de utilizar este método si no quiere que se impriman DataFrames largos."
   ]
  },
  {
   "cell_type": "markdown",
   "metadata": {},
   "source": [
    "## 1\n",
    "\n",
    "Obtener todos los registros en los cuales **la propina es igual a 10**."
   ]
  },
  {
   "cell_type": "code",
   "execution_count": null,
   "metadata": {},
   "outputs": [],
   "source": [
    "# Solución aquí\n"
   ]
  },
  {
   "cell_type": "markdown",
   "metadata": {},
   "source": [
    "## 2\n",
    "\n",
    "Obtener todos los registros donde **el número de personas (size) es igual a 5 o 6**. "
   ]
  },
  {
   "cell_type": "code",
   "execution_count": null,
   "metadata": {},
   "outputs": [],
   "source": [
    "# Solución aquí\n"
   ]
  },
  {
   "cell_type": "markdown",
   "metadata": {},
   "source": [
    "## 3\n",
    "\n",
    "Obtener todos los registros donde **el grupo contenga fumadores**."
   ]
  },
  {
   "cell_type": "code",
   "execution_count": null,
   "metadata": {},
   "outputs": [],
   "source": [
    "# Solución aquí\n"
   ]
  },
  {
   "cell_type": "markdown",
   "metadata": {},
   "source": [
    "## 4\n",
    "\n",
    "Obtener todos los registros donde **el grupo no contenga fumadores**."
   ]
  },
  {
   "cell_type": "code",
   "execution_count": null,
   "metadata": {},
   "outputs": [],
   "source": [
    "# Solución aquí\n"
   ]
  },
  {
   "cell_type": "markdown",
   "metadata": {},
   "source": [
    "## 5\n",
    "\n",
    "Obtener todos los registros donde **la propina sea igual a 5, 7 o 10**"
   ]
  },
  {
   "cell_type": "code",
   "execution_count": null,
   "metadata": {},
   "outputs": [],
   "source": [
    "# Solución aquí\n"
   ]
  },
  {
   "cell_type": "markdown",
   "metadata": {},
   "source": [
    "## 6\n",
    "\n",
    "Obtenga todos los registros donde **el día sea Sábado o Domingo**."
   ]
  },
  {
   "cell_type": "code",
   "execution_count": null,
   "metadata": {},
   "outputs": [],
   "source": [
    "# Solución aquí\n"
   ]
  },
  {
   "cell_type": "markdown",
   "metadata": {},
   "source": [
    "## 7\n",
    "\n",
    "Obtenga todos los registros donde **el número de personas sea mayor a 4** y **quien pague la cuenta sea una mujer**."
   ]
  },
  {
   "cell_type": "code",
   "execution_count": null,
   "metadata": {},
   "outputs": [],
   "source": [
    "# Solución aquí\n"
   ]
  },
  {
   "cell_type": "markdown",
   "metadata": {},
   "source": [
    "## 8\n",
    "\n",
    "Obtenga todos los registros donde **la cuenta total sea mayor a 40** y **la propina sea mayor que 5**"
   ]
  },
  {
   "cell_type": "code",
   "execution_count": null,
   "metadata": {},
   "outputs": [],
   "source": [
    "# Solución aquí\n"
   ]
  },
  {
   "cell_type": "markdown",
   "metadata": {},
   "source": [
    "## 9\n",
    "\n",
    "Obtener todos los registros donde el **número de personas sea mayor que 4** o **el momento de asistencia sea una cena**"
   ]
  },
  {
   "cell_type": "code",
   "execution_count": null,
   "metadata": {},
   "outputs": [],
   "source": [
    "# Solución aquí\n"
   ]
  },
  {
   "cell_type": "markdown",
   "metadata": {},
   "source": [
    "## 10\n",
    "\n",
    "Obtener todos los registros donde **no hayan fumadores**, la **cuenta total sea mayor a 30**, y **el día sea jueves o viernes**."
   ]
  },
  {
   "cell_type": "code",
   "execution_count": null,
   "metadata": {},
   "outputs": [],
   "source": [
    "# Solución aquí\n"
   ]
  },
  {
   "cell_type": "markdown",
   "metadata": {},
   "source": [
    "## 11\n",
    "\n",
    "Obtener todos los registros donde **el día sea viernes o sábado**, el **momento de asistencia sea para la comida**, y el **número de personas sea menor a 4**."
   ]
  },
  {
   "cell_type": "code",
   "execution_count": null,
   "metadata": {},
   "outputs": [],
   "source": [
    "# Solución aquí\n"
   ]
  },
  {
   "cell_type": "markdown",
   "metadata": {},
   "source": [
    "## 12\n",
    "\n",
    "Obtener todos los registros donde\n",
    "\n",
    "el **día sea viernes**, el **número de personas sea menor a 3**, y **quien pague la cuenta sea una mujer**\n",
    "\n",
    "o\n",
    "\n",
    "el **día sea domingo**, el **número de personas sea mayor a 4**, y **quien pague la cuenta sea un hombre**."
   ]
  },
  {
   "cell_type": "code",
   "execution_count": null,
   "metadata": {},
   "outputs": [],
   "source": [
    "# Solución aquí\n"
   ]
  },
  {
   "cell_type": "markdown",
   "metadata": {},
   "source": [
    "<script>\n",
    "  $(document).ready(function(){\n",
    "    $('div.prompt').hide();\n",
    "    $('div.back-to-top').hide();\n",
    "    $('nav#menubar').hide();\n",
    "    $('.breadcrumb').hide();\n",
    "    $('.hidden-print').hide();\n",
    "  });\n",
    "</script>\n",
    "\n",
    "<footer id=\"attribution\" style=\"float:right; color:#808080; background:#fff;\">\n",
    "Created with Jupyter by Carlos Kelly.\n",
    "</footer>"
   ]
  }
 ],
 "metadata": {
  "kernelspec": {
   "display_name": "Python 3 (ipykernel)",
   "language": "python",
   "name": "python3"
  },
  "language_info": {
   "codemirror_mode": {
    "name": "ipython",
    "version": 3
   },
   "file_extension": ".py",
   "mimetype": "text/x-python",
   "name": "python",
   "nbconvert_exporter": "python",
   "pygments_lexer": "ipython3",
   "version": "3.11.5"
  }
 },
 "nbformat": 4,
 "nbformat_minor": 4
}
